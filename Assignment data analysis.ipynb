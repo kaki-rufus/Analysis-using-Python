{
 "cells": [
  {
   "cell_type": "markdown",
   "id": "26964043",
   "metadata": {},
   "source": [
    "## Assignment 1 functions"
   ]
  },
  {
   "cell_type": "markdown",
   "id": "2b4aa897",
   "metadata": {},
   "source": [
    "#### Index function ()\n",
    "#### This is used to show or select an element. It shows the position of an element.\n",
    "#### Assignment starts from 0 onwards"
   ]
  },
  {
   "cell_type": "code",
   "execution_count": 6,
   "id": "0a9788ef",
   "metadata": {},
   "outputs": [
    {
     "data": {
      "text/plain": [
       "'Grace'"
      ]
     },
     "execution_count": 6,
     "metadata": {},
     "output_type": "execute_result"
    }
   ],
   "source": [
    "# index\n",
    "names = ['John', 'Kevin', 'James', 'Grace', 'Mary']\n",
    "names[3]"
   ]
  },
  {
   "cell_type": "code",
   "execution_count": 7,
   "id": "65fa2de1",
   "metadata": {},
   "outputs": [
    {
     "data": {
      "text/plain": [
       "'Kevin'"
      ]
     },
     "execution_count": 7,
     "metadata": {},
     "output_type": "execute_result"
    }
   ],
   "source": [
    "names[1]"
   ]
  },
  {
   "cell_type": "markdown",
   "id": "a09e01d9",
   "metadata": {},
   "source": [
    "#### Pop function ()\n",
    "#### Used to remove and return the last or selected element"
   ]
  },
  {
   "cell_type": "code",
   "execution_count": 2,
   "id": "eb657ad6",
   "metadata": {},
   "outputs": [
    {
     "name": "stdout",
     "output_type": "stream",
     "text": [
      "Mary\n",
      "['John', 'Kevin', 'James', 'Grace']\n"
     ]
    }
   ],
   "source": [
    "# removes and returns the last element\n",
    "names = ['John', 'Kevin', 'James', 'Grace', 'Mary']\n",
    "print(names.pop())\n",
    "print(names)"
   ]
  },
  {
   "cell_type": "code",
   "execution_count": 11,
   "id": "de31220a",
   "metadata": {},
   "outputs": [
    {
     "name": "stdout",
     "output_type": "stream",
     "text": [
      "James\n",
      "['John', 'Grace']\n"
     ]
    }
   ],
   "source": [
    "# takes index of the selected element and returns it\n",
    "print(names.pop(1))\n",
    "print(names)"
   ]
  },
  {
   "cell_type": "markdown",
   "id": "895e9c3d",
   "metadata": {},
   "source": [
    "#### Remove function()\n",
    "#### Used to remove selected element and returns the new array \n",
    "#### without the removed element"
   ]
  },
  {
   "cell_type": "code",
   "execution_count": 19,
   "id": "d4ddc7e8",
   "metadata": {},
   "outputs": [
    {
     "data": {
      "text/plain": [
       "['John', 'Kevin', 'Grace', 'Mary']"
      ]
     },
     "execution_count": 19,
     "metadata": {},
     "output_type": "execute_result"
    }
   ],
   "source": [
    "names = ['John', 'Kevin', 'James', 'Grace', 'Mary']\n",
    "names.remove('James')\n",
    "names"
   ]
  },
  {
   "cell_type": "markdown",
   "id": "a79b1671",
   "metadata": {},
   "source": [
    "#### Sort function()\n",
    "#### Used to sort array elements in the correct order"
   ]
  },
  {
   "cell_type": "code",
   "execution_count": 21,
   "id": "9d73ac0c",
   "metadata": {},
   "outputs": [
    {
     "data": {
      "text/plain": [
       "[2, 3, 5, 6, 7]"
      ]
     },
     "execution_count": 21,
     "metadata": {},
     "output_type": "execute_result"
    }
   ],
   "source": [
    "numbers = [5, 7, 3, 2, 6]\n",
    "numbers.sort()\n",
    "numbers"
   ]
  },
  {
   "cell_type": "code",
   "execution_count": 23,
   "id": "0c973d6d",
   "metadata": {},
   "outputs": [
    {
     "data": {
      "text/plain": [
       "['Grace', 'James', 'John', 'Kevin', 'Mary']"
      ]
     },
     "execution_count": 23,
     "metadata": {},
     "output_type": "execute_result"
    }
   ],
   "source": [
    "names = ['John', 'Kevin', 'James', 'Grace', 'Mary']\n",
    "names.sort()\n",
    "names"
   ]
  },
  {
   "cell_type": "markdown",
   "id": "0513a58d",
   "metadata": {},
   "source": [
    "#### Reverse function()\n",
    "#### Used to reverse elements of an array or list"
   ]
  },
  {
   "cell_type": "code",
   "execution_count": 25,
   "id": "4b4eec56",
   "metadata": {},
   "outputs": [
    {
     "data": {
      "text/plain": [
       "[6, 2, 3, 7, 5]"
      ]
     },
     "execution_count": 25,
     "metadata": {},
     "output_type": "execute_result"
    }
   ],
   "source": [
    "numbers = [5, 7, 3, 2, 6]\n",
    "numbers.reverse()\n",
    "numbers"
   ]
  },
  {
   "cell_type": "code",
   "execution_count": 26,
   "id": "79240a92",
   "metadata": {},
   "outputs": [
    {
     "data": {
      "text/plain": [
       "['Mary', 'Grace', 'James', 'Kevin', 'John']"
      ]
     },
     "execution_count": 26,
     "metadata": {},
     "output_type": "execute_result"
    }
   ],
   "source": [
    "names = ['John', 'Kevin', 'James', 'Grace', 'Mary']\n",
    "names.reverse()\n",
    "names"
   ]
  },
  {
   "cell_type": "markdown",
   "id": "b47ac1eb",
   "metadata": {},
   "source": [
    "## Assignment 2"
   ]
  },
  {
   "cell_type": "markdown",
   "id": "09cdfdf4",
   "metadata": {},
   "source": [
    "### 1.Membership operators\n",
    "#### They are used to test whether a value or \n",
    "#### variable is found in a sequence.\n",
    "#### in and not in are the membership operators in Python"
   ]
  },
  {
   "cell_type": "code",
   "execution_count": 28,
   "id": "24488f09",
   "metadata": {},
   "outputs": [
    {
     "name": "stdout",
     "output_type": "stream",
     "text": [
      "True\n",
      "False\n",
      "True\n"
     ]
    }
   ],
   "source": [
    "x = \"Rufus Kairu\"\n",
    "print('Rufus' in x)\n",
    "print('rufus' in x)\n",
    "print('kairu' not in x)"
   ]
  },
  {
   "cell_type": "markdown",
   "id": "cd4ffbbc",
   "metadata": {},
   "source": [
    "### 2. Identity operators\n",
    "#### Used to check if two values/variables are located\n",
    "#### on the same part of the memory.\n",
    "#### is and is not are the identity operators"
   ]
  },
  {
   "cell_type": "code",
   "execution_count": 29,
   "id": "565720a5",
   "metadata": {},
   "outputs": [
    {
     "name": "stdout",
     "output_type": "stream",
     "text": [
      "True\n",
      "False\n",
      "True\n"
     ]
    }
   ],
   "source": [
    "x1 = 5\n",
    "y1 = 5\n",
    "\n",
    "x2 = 'hello'\n",
    "y2 = 'hello'\n",
    "\n",
    "print(x1 is y1)\n",
    "print(x1 is not y1)\n",
    "print(x2 is y2)"
   ]
  },
  {
   "cell_type": "markdown",
   "id": "ac93ed3f",
   "metadata": {},
   "source": [
    "### 3. Bitwise operators\n",
    "#### They act on operands as if they were string of binary digits\n",
    "#### They operate bit by bit, hence the name bitwise"
   ]
  },
  {
   "cell_type": "code",
   "execution_count": 32,
   "id": "34cb2ca8",
   "metadata": {},
   "outputs": [
    {
     "name": "stdout",
     "output_type": "stream",
     "text": [
      "0\n",
      "14\n"
     ]
    }
   ],
   "source": [
    "x = 10\n",
    "y = 4\n",
    "\n",
    "# Bitwise AND\n",
    "print(x & y)\n",
    "\n",
    "# Bitwise OR\n",
    "print(x | y)"
   ]
  }
 ],
 "metadata": {
  "kernelspec": {
   "display_name": "Python 3",
   "language": "python",
   "name": "python3"
  },
  "language_info": {
   "codemirror_mode": {
    "name": "ipython",
    "version": 3
   },
   "file_extension": ".py",
   "mimetype": "text/x-python",
   "name": "python",
   "nbconvert_exporter": "python",
   "pygments_lexer": "ipython3",
   "version": "3.8.8"
  }
 },
 "nbformat": 4,
 "nbformat_minor": 5
}
